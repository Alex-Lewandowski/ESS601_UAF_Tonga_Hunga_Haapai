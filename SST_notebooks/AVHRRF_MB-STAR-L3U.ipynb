{
 "cells": [
  {
   "cell_type": "markdown",
   "metadata": {
    "id": "hhtGFT-xWWwx"
   },
   "source": [
    "## GHRSST NOAA/STAR Metop-B AVHRR FRAC ACSPO v2.80 0.02 L3U Dataset (GDS v2)\n",
    "\n",
    "**Data summary from UMM metadata:**\n",
    "\n",
    ">This L3U (Level 3 Uncollated) dataset contains global daily Sea Surface Temperature (SST) on a 0.02 degree grid resolution. It is produced by the National Oceanic and Atmospheric Administration (NOAA) Advanced Clear Sky Processor for Ocean (ACSPO) using L2P (Level 2 Preprocessed) product acquired from the Meteorological Operational satellite B (Metop-B) Advanced Very High Resolution Radiometer 3 (AVHRR/3) (https://podaac.jpl.nasa.gov/dataset/AVHRRF_MB-STAR-L2P-v2.80 ) in Full Resolution Area Coverage (FRAC) mode as input. It is distributed as 10-minute granules in netCDF-4 format, compliant with the Group for High Resolution Sea Surface Temperature (GHRSST) Data Specification version 2 (GDS2). There are 144 granules per 24-hour interval. Fill values are reported in all invalid pixels, including land pixels with >5 km inland. For each valid water pixel (defined as ocean, sea, lake or river), and up to 5 km inland, the following major layers are reported: SSTs and ACSPO clear-sky mask (ACSM; provided in each grid as part of l2p_flags, which also includes day/night, land, ice, twilight, and glint flags). Only input L2P SSTs with QL=5 were gridded, so all valid SSTs are recommended for the users. Per GDS2 specifications, two additional Sensor-Specific Error Statistics layers (SSES bias and standard deviation) are reported in each pixel with valid SST. Ancillary layers include wind speed and ACSPO minus reference Canadian Meteorological Centre (CMC) Level 4 (L4) SST. The ACSPO Metop-B AVHRR FRAC L3U product is monitored and validated against iQuam in situ data (Xu and Ignatov, 2014) in the NOAA SST Quality Monitor (SQUAM) system (Dash et al, 2010). SST imagery and clear-sky mask are evaluated, and checked for consistency with L2P and other satellites/sensors SST products, in the NOAA ACSPO Regional Monitor for SST (ARMS) system. More information about the dataset is found at AVHRRF_MB-STAR-L2P-v2.80 and in (Pryamitsyn et al., 2021).\n"
   ]
  },
  {
   "cell_type": "code",
   "execution_count": null,
   "metadata": {
    "id": "0dk7kDm_aE3b"
   },
   "outputs": [],
   "source": [
    "center_lat = -20.54953\n",
    "center_lon = -175.40914\n",
    "radius_km = 200"
   ]
  },
  {
   "cell_type": "code",
   "execution_count": null,
   "metadata": {
    "colab": {
     "base_uri": "https://localhost:8080/"
    },
    "id": "nl2SZlol8IV7",
    "outputId": "bd777876-50f6-448a-ce0c-22d65ae00f14",
    "scrolled": true
   },
   "outputs": [],
   "source": [
    "import requests\n",
    "\n",
    "from urllib.parse import quote\n",
    "\n",
    "cmr_granule_search_url = \"https://cmr.earthdata.nasa.gov/search/granules.json\"\n",
    "\n",
    "params = {\n",
    "    'short_name': 'AVHRRF_MB-STAR-L3U-v2.80',\n",
    "    'page_size': 500,\n",
    "    'temporal': '2022-01-08T00:00:00,2022-01-23T23:59:59',\n",
    "    'point': f'{center_lon},{center_lat}'\n",
    "}\n",
    "\n",
    "response = requests.get(cmr_granule_search_url, params=params)\n",
    "\n",
    "download_urls = []\n",
    "\n",
    "if response.status_code == 200:\n",
    "    data = response.json()\n",
    "    granules = data['feed']['entry']\n",
    "\n",
    "    for granule in granules:\n",
    "        print(f\"Granule Title: {granule['title']}\")\n",
    "        print(f\"collection_concept_id: {granule['collection_concept_id']}\")\n",
    "        print(\"Download URLs:\")\n",
    "        for link in granule['links']:\n",
    "          if 'title' in link.keys() and '.nc' in link['title']:\n",
    "            print(link['href'])\n",
    "            download_urls.append(link['href'])\n",
    "        print()\n",
    "else:\n",
    "    print(f\"Error {response.status_code}: {response.text}\")\n"
   ]
  },
  {
   "cell_type": "markdown",
   "metadata": {
    "id": "XRWWIfJ0a0Xe"
   },
   "source": [
    "---\n",
    "## Create a directory to hold the data"
   ]
  },
  {
   "cell_type": "code",
   "execution_count": null,
   "metadata": {
    "id": "QntUUKFaVI8v"
   },
   "outputs": [],
   "source": [
    "from pathlib import Path\n",
    "\n",
    "data_path = Path.cwd().parent / f\"Tonga_sst/{params['short_name']}\"\n",
    "data_path.mkdir(parents=True, exist_ok=True)"
   ]
  },
  {
   "cell_type": "code",
   "execution_count": null,
   "metadata": {
    "id": "qYi2XU2dj4jg"
   },
   "outputs": [],
   "source": [
    "# import shutil\n",
    "\n",
    "# shutil.rmtree(data_path)"
   ]
  },
  {
   "cell_type": "markdown",
   "metadata": {
    "id": "EWsRvqppbIYE"
   },
   "source": [
    "---\n",
    "## Download the data"
   ]
  },
  {
   "cell_type": "code",
   "execution_count": null,
   "metadata": {
    "colab": {
     "base_uri": "https://localhost:8080/",
     "height": 1000,
     "referenced_widgets": [
      "413468e3268c43c699c425824446b120",
      "43a55e61fd8e4e0891b6fc18bf9278b6",
      "9f439677cd604adba24ed57527f854bf",
      "d87ccdb6f715408998f5025c273569c3",
      "08ba4993e63f47e895acf312fac0c4a0",
      "fc0ec6031d164a55bd55738bb7d75fb7",
      "90613bd1c0d1483cb5c54d428ce73773",
      "8f21a795edf141949913e9822d66c34b",
      "7ff5be55b7dd4b4e9f8a3499583961a6",
      "194851164eb9469f9c5a1745afbf6d32",
      "85d93fc80a874a3991704982a014979b"
     ]
    },
    "id": "tfvSTa-cETdt",
    "outputId": "4482d2ef-f77a-4aeb-b2c9-8f1a6fba1572",
    "scrolled": true
   },
   "outputs": [],
   "source": [
    "from getpass import getpass\n",
    "from requests.auth import HTTPBasicAuth\n",
    "from tqdm.auto import tqdm\n",
    "\n",
    "username = input('Earthdata username')\n",
    "password = getpass('Earthdata password')\n",
    "\n",
    "for url in tqdm(download_urls):\n",
    "  output_path = data_path / url.split('/')[-1]\n",
    "  if not output_path.exists():\n",
    "    !wget --user={username} --password={password} {url} -O {output_path}\n",
    "\n",
    "del username\n",
    "del password"
   ]
  },
  {
   "cell_type": "markdown",
   "metadata": {
    "id": "IAdY9WcGh1tq"
   },
   "source": [
    "---\n",
    "## Find the paths to the downloaded data"
   ]
  },
  {
   "cell_type": "code",
   "execution_count": null,
   "metadata": {
    "colab": {
     "base_uri": "https://localhost:8080/"
    },
    "id": "sJf2dTrEXNGS",
    "outputId": "096f5285-d993-4f40-c94e-ec72cce3c097"
   },
   "outputs": [],
   "source": [
    "l2b_paths = list(data_path.glob('*.nc'))\n",
    "l2b_paths"
   ]
  },
  {
   "cell_type": "markdown",
   "metadata": {
    "id": "vrP62Pg6h-7i"
   },
   "source": [
    "---\n",
    "## Subset the data to an AOI defined by a radius around a center coordinate\n",
    "\n",
    "**Functions used to subset the data to our AOI and sanitize non-utf-8 data attributes**"
   ]
  },
  {
   "cell_type": "code",
   "execution_count": null,
   "metadata": {
    "id": "PuAPJ58nHunK"
   },
   "outputs": [],
   "source": [
    "import xarray as xr\n",
    "import numpy as np\n",
    "from geopy.distance import great_circle\n",
    "\n",
    "import numpy as np\n",
    "import xarray as xr\n",
    "from math import cos, radians\n",
    "\n",
    "def clip_to_box_around_point_km(dataset, center_lat, center_lon, distance_km, lat_name='lat', lon_name='lon'):\n",
    "    \"\"\"\n",
    "    Clip the dataset to a box around the given WGS84 coordinate (center_lat, center_lon)\n",
    "    with a box defined by a distance in kilometers from center. distance_km = side length / 2\n",
    "\n",
    "    Parameters:\n",
    "    - dataset: xarray Dataset to be clipped.\n",
    "    - center_lat: Latitude of the center point\n",
    "    - center_lon: Longitude of the center point\n",
    "    - distance_km: Distance in kilometers to create a bounding box around the point.\n",
    "    - lat_name: Name of the latitude coordinate in the dataset.\n",
    "    - lon_name: Name of the longitude coordinate in the dataset.\n",
    "\n",
    "    Returns:\n",
    "    - Clipped xarray Dataset.\n",
    "    \"\"\"\n",
    "\n",
    "    lat_degree_km = 111.32\n",
    "    delta_lat = distance_km / lat_degree_km\n",
    "    lon_degree_km = lat_degree_km * cos(radians(center_lat))\n",
    "    delta_lon = distance_km / lon_degree_km\n",
    "\n",
    "\n",
    "    min_lat = center_lat - delta_lat\n",
    "    max_lat = center_lat + delta_lat\n",
    "    min_lon = center_lon - delta_lon\n",
    "    max_lon = center_lon + delta_lon\n",
    "\n",
    "    if min_lon < -180:\n",
    "        min_lon += 360\n",
    "    if max_lon > 180:\n",
    "        max_lon -= 360\n",
    "\n",
    "    lat = dataset[lat_name]\n",
    "    lon = dataset[lon_name]\n",
    "\n",
    "    mask = (\n",
    "        (lat >= min_lat) & (lat <= max_lat) &\n",
    "        (lon >= min_lon) & (lon <= max_lon)\n",
    "    )\n",
    "\n",
    "    clipped_dataset = dataset.where(mask, drop=True)\n",
    "\n",
    "    return clipped_dataset\n",
    "    \n",
    "\n",
    "def subset_to_haversine_radius(\n",
    "    dataset: xr.Dataset,\n",
    "    lat_name: str,\n",
    "    lon_name: str,\n",
    "    center_lat: float,\n",
    "    center_lon: float,\n",
    "    radius_km: float\n",
    "    ) -> xr.Dataset:\n",
    "    \"\"\"\n",
    "    Subset an xarray.Dataset to only include points within a given radius using Haversine distance.\n",
    "\n",
    "    Parameters:\n",
    "    - dataset (xarray.Dataset): dataset containing latitude and longitude data\n",
    "    - lat_name (str): name of the latitude variable in the dataset\n",
    "    - lon_name (str): name of the longitude variable in the dataset\n",
    "    - center_lat (float): latitude of the center point\n",
    "    - center_lon (float): longitude of the center point\n",
    "    - radius_km (float): radius around the center point (in kilometers) to include in the subset.\n",
    "\n",
    "    Returns (xarray.Dataset): subset dataset with only the points within the specified radius.\n",
    "    \"\"\"\n",
    "\n",
    "    lat = dataset[lat_name].values\n",
    "    lon = dataset[lon_name].values\n",
    "\n",
    "    lat_dims = dataset[lat_name].dims\n",
    "    lon_dims = dataset[lon_name].dims\n",
    "\n",
    "    # handle flattened data\n",
    "    if len(lon.shape) == 1 and len(lat.shape) == 1:\n",
    "        lon, lat = np.meshgrid(lon, lat)\n",
    "\n",
    "    distance_mask = np.zeros(lon.shape, dtype=bool)\n",
    "\n",
    "    for i in range(lon.shape[0]):\n",
    "        for j in range(lon.shape[1]):\n",
    "            point_lat = lat[i, j]\n",
    "            point_lon = lon[i, j]\n",
    "            if not np.isnan(point_lat) and not np.isnan(point_lon):\n",
    "                distance = great_circle((center_lat, center_lon), (point_lat, point_lon)).kilometers\n",
    "                if distance <= radius_km:\n",
    "                    distance_mask[i, j] = True\n",
    "\n",
    "    if len(lat_dims) > 1:\n",
    "      distance_mask_da = xr.DataArray(distance_mask, dims=lat_dims, coords={lat_dims[0]: dataset[lat_dims[0]], lat_dims[1]: dataset[lat_dims[1]]})\n",
    "    else:\n",
    "      distance_mask_da = xr.DataArray(distance_mask, dims=('lat', 'lon'),  coords={'lat': dataset['lat'], 'lon': dataset['lon']})\n",
    "\n",
    "\n",
    "    return dataset.where(distance_mask_da) #, drop=True)\n",
    "\n",
    "\n",
    "def clean_attributes(ds):\n",
    "    \"\"\"\n",
    "    Cleans non-utf-8-encodable data attributes so they can be loaded by xarray\n",
    "\n",
    "    Parameters:\n",
    "    - ds (xarray.Dataset): dataset whose attributes may contain non-utf-8-encodable characters\n",
    "\n",
    "    Returns (xarray.Dataset): dataset whose non-utf-8-encodable attributes have been made utf-8 encodable\n",
    "    \"\"\"\n",
    "    for var in ds.variables:\n",
    "        for attr, value in ds[var].attrs.items():\n",
    "            if isinstance(value, str):\n",
    "                try:\n",
    "                    ds[var].attrs[attr] = value.encode('utf-8').decode('utf-8')\n",
    "                except UnicodeEncodeError:\n",
    "                    ds[var].attrs[attr] = value.encode('utf-8', 'replace').decode('utf-8')\n",
    "    return ds\n"
   ]
  },
  {
   "cell_type": "markdown",
   "metadata": {},
   "source": [
    "**Subset the data**"
   ]
  },
  {
   "cell_type": "code",
   "execution_count": null,
   "metadata": {
    "colab": {
     "base_uri": "https://localhost:8080/",
     "height": 49,
     "referenced_widgets": [
      "9cae179a57944899bf9192cef6b43516",
      "982d152ac6794750803e7eaf672fd23e",
      "91318ea085ec40f1bdc05c6210e41062",
      "085b983b1de84299858b962672a483bf",
      "3fa87066ee3140b286fa0afe654bea1f",
      "854d15e5c85042c4a4441adcaabc292b",
      "2a3caee4d2d44d5591698c77aa76bd5d",
      "1eee51c2c497403abb0fc9b19471408f",
      "824dbfa3b51d41bd941460bd69aacff6",
      "ffb12c5064664c5ca8c4ce9732d576b8",
      "d499343a8142420c9ee9e6598e490f76"
     ]
    },
    "id": "GeU_BtVBHuzA",
    "outputId": "902df773-0b01-432f-cfe5-f18191220d9d"
   },
   "outputs": [],
   "source": [
    "from tqdm.auto import tqdm\n",
    "import xarray as xr\n",
    "\n",
    "for pth in tqdm(l2b_paths):\n",
    "\n",
    "  ds = xr.open_dataset(pth, decode_cf=False)\n",
    "\n",
    "  ds = clean_attributes(ds)\n",
    "\n",
    "\n",
    "  for var in ds.data_vars:\n",
    "      if ds[var].dtype in ['int16', 'int32']:\n",
    "          ds[var] = ds[var].astype('float32')\n",
    "\n",
    "  ds = xr.decode_cf(ds)\n",
    "\n",
    "\n",
    "  subset = clip_to_box_around_point_km(ds, center_lat, center_lon, radius_km)\n",
    "\n",
    "  subset = subset_to_haversine_radius(subset, 'lat', 'lon', center_lat, center_lon, radius_km)\n",
    "\n",
    "  # use only high quality data\n",
    "  subset = subset.where(subset['quality_level'] == 5)\n",
    "\n",
    "  output_pth = pth.parent / f\"{pth.name.split('.nc')[0]}_subset.nc\"\n",
    "  subset.to_netcdf(output_pth)\n",
    "\n",
    "  pth.unlink()"
   ]
  },
  {
   "cell_type": "markdown",
   "metadata": {
    "id": "rqPGRSBWiaq2"
   },
   "source": [
    "---\n",
    "# Find the paths to the subset data"
   ]
  },
  {
   "cell_type": "code",
   "execution_count": null,
   "metadata": {
    "colab": {
     "base_uri": "https://localhost:8080/"
    },
    "id": "SLcRORMXiZoN",
    "outputId": "9642f0a7-3d73-4b13-a329-f9b21233236d"
   },
   "outputs": [],
   "source": [
    "l2b_paths = sorted(list(data_path.glob('*subset.nc')))\n",
    "l2b_paths"
   ]
  },
  {
   "cell_type": "markdown",
   "metadata": {
    "id": "EZOx6SOoyYYt"
   },
   "source": [
    "---\n",
    "## Explore the structure of one of the datasets"
   ]
  },
  {
   "cell_type": "code",
   "execution_count": null,
   "metadata": {
    "colab": {
     "base_uri": "https://localhost:8080/",
     "height": 617
    },
    "id": "ssSTt7XLxzh0",
    "outputId": "1cec7da7-4e6c-48b8-9f00-8b493d82f8e5"
   },
   "outputs": [],
   "source": [
    "import xarray as xr\n",
    "\n",
    "ds = xr.open_dataset(l2b_paths[2])\n",
    "ds"
   ]
  },
  {
   "cell_type": "markdown",
   "metadata": {},
   "source": [
    "---\n",
    "## Remove outliers (or don't)"
   ]
  },
  {
   "cell_type": "code",
   "execution_count": null,
   "metadata": {
    "colab": {
     "base_uri": "https://localhost:8080/"
    },
    "id": "Cyu5peZa8Aac",
    "outputId": "5f37a2be-4a2b-43a1-ee02-55b0873121c4"
   },
   "outputs": [],
   "source": [
    "import numpy as np\n",
    "\n",
    "min_sst = 999.0\n",
    "max_sst = 0.0\n",
    "\n",
    "for pth in l2b_paths:\n",
    "    ds = xr.open_dataset(pth)\n",
    "    if not ds['sea_surface_temperature'].isnull().all():\n",
    "      min_sst = np.nanmin([min_sst, ds['sea_surface_temperature'].quantile(0.0)]) # adjust quantile to remove outliers on the low end\n",
    "      max_sst = np.nanmax([max_sst, ds['sea_surface_temperature'].quantile(1.0)]) # adjust quantile to remove outliers on the high end\n",
    "\n",
    "print((min_sst-273.15, max_sst-273.15))"
   ]
  },
  {
   "cell_type": "markdown",
   "metadata": {},
   "source": [
    "---\n",
    "## Plot SST distributions"
   ]
  },
  {
   "cell_type": "code",
   "execution_count": null,
   "metadata": {
    "colab": {
     "base_uri": "https://localhost:8080/",
     "height": 1000
    },
    "id": "Sb8qr6NRMEV0",
    "outputId": "86d10346-94fa-42b9-e503-1b828c15245d"
   },
   "outputs": [],
   "source": [
    "import matplotlib.pyplot as plt\n",
    "\n",
    "for pth in l2b_paths:\n",
    "    ds = xr.open_dataset(pth, mask_and_scale=False)\n",
    "    ds = ds.where(ds['quality_level'] == 5)\n",
    "    if not ds['sea_surface_temperature'].isnull().all():\n",
    "        try:\n",
    "            plt.hist(ds['sea_surface_temperature'].values.flatten()-273.15, bins=50)\n",
    "            date_str = f\"{ds.attrs['start_time'][:4]}-{ds.attrs['start_time'][4:6]}-{ds.attrs['start_time'][6:8]}\"\n",
    "            plt.title(f'SST Temperature Distribution: {date_str}')\n",
    "            plt.xlabel('Temperature (°C)')\n",
    "            plt.ylabel('Frequency')\n",
    "            plt.show()\n",
    "        except ValueError:\n",
    "            pass"
   ]
  },
  {
   "cell_type": "markdown",
   "metadata": {},
   "source": [
    "---\n",
    "## Concatenate all time steps into a single Dataset along the 'time' dimension\n",
    "\n",
    "- drop any empty datasets"
   ]
  },
  {
   "cell_type": "code",
   "execution_count": null,
   "metadata": {
    "id": "xZBjaCttKdne"
   },
   "outputs": [],
   "source": [
    "combined_ds = xr.open_mfdataset(l2b_paths, concat_dim='time', combine='nested')\n",
    "combined_ds = combined_ds.dropna(dim='time', subset=['sea_surface_temperature'], how='all')"
   ]
  },
  {
   "cell_type": "code",
   "execution_count": null,
   "metadata": {
    "colab": {
     "base_uri": "https://localhost:8080/",
     "height": 617
    },
    "id": "t0Wxfwf8rEc_",
    "outputId": "1901135a-3e6d-4538-c275-3e0deeffb52d"
   },
   "outputs": [],
   "source": [
    "combined_ds"
   ]
  },
  {
   "cell_type": "markdown",
   "metadata": {},
   "source": [
    "---\n",
    "## Function to create a time series animation"
   ]
  },
  {
   "cell_type": "code",
   "execution_count": null,
   "metadata": {
    "colab": {
     "base_uri": "https://localhost:8080/"
    },
    "id": "otFbLbeB0fl2",
    "outputId": "a5edeb61-ea90-4ad3-8098-8a3caf65a162"
   },
   "outputs": [],
   "source": [
    "# !python -m pip install cartopy"
   ]
  },
  {
   "cell_type": "code",
   "execution_count": null,
   "metadata": {
    "id": "XpHHxdwwrQn0"
   },
   "outputs": [],
   "source": [
    "import matplotlib.pyplot as plt\n",
    "import numpy as np\n",
    "import xarray as xr\n",
    "import cartopy.crs as ccrs\n",
    "import cartopy.feature as cfeature\n",
    "import cartopy.io.img_tiles as cimgt\n",
    "import cartopy.mpl.ticker as cticker\n",
    "from matplotlib.animation import FuncAnimation\n",
    "\n",
    "plt.rcParams['animation.embed_limit'] = 100\n",
    "\n",
    "%matplotlib notebook\n",
    "\n",
    "def animate_sst(ds, min_sst, max_sst, interval=200):\n",
    "    K_CONST = 273.15\n",
    "\n",
    "    sst = ds['sea_surface_temperature'] - K_CONST  # Convert to Celsius\n",
    "\n",
    "    min_sst_c = min_sst - K_CONST\n",
    "    max_sst_c = max_sst - K_CONST\n",
    "\n",
    "    if np.isnan(sst).all():\n",
    "        print(f'SST data layer empty. Skipping plot.')\n",
    "        return\n",
    "\n",
    "    lat = ds['lat'].values\n",
    "    lon = ds['lon'].values\n",
    "    lon_grid, lat_grid = np.meshgrid(lon, lat)\n",
    "    lon_data = lon_grid.flatten()\n",
    "    lat_data = lat_grid.flatten()\n",
    "\n",
    "    fig = plt.figure(figsize=(8, 8))\n",
    "    ax = plt.axes(projection=ccrs.PlateCarree())\n",
    "\n",
    "    esri_imagery = cimgt.QuadtreeTiles()\n",
    "    ax.add_image(esri_imagery, 8)\n",
    "    ax.coastlines()\n",
    "    ax.add_feature(cfeature.LAND, facecolor='lightgray')\n",
    "    ax.add_feature(cfeature.OCEAN, facecolor='lightblue')\n",
    "\n",
    "    gl = ax.gridlines(draw_labels=True, crs=ccrs.PlateCarree(), linestyle='--', linewidth=0.5)\n",
    "    gl.top_labels = False\n",
    "    gl.right_labels = False\n",
    "    gl.xformatter = cticker.LongitudeFormatter()\n",
    "    gl.yformatter = cticker.LatitudeFormatter()\n",
    "    gl.xlabel_style = {'rotation': 30, 'ha': 'right'}\n",
    "    ax.set_xlabel('Longitude (°)', fontsize=12)\n",
    "    ax.set_ylabel('Latitude (°)', fontsize=12)\n",
    "\n",
    "    sst_data = sst.isel(time=0).values.flatten()\n",
    "    sst_plt = ax.scatter(lon_data, lat_data, c=sst_data, cmap='coolwarm', s=5,\n",
    "                         transform=ccrs.PlateCarree(), vmin=min_sst_c, vmax=max_sst_c)\n",
    "\n",
    "    center_lon, center_lat = -175.4, -20.5\n",
    "    feature_plt = plt.scatter(center_lon, center_lat, color='yellow', marker='*', s=100, label='Tonga Hunga Haapai')\n",
    "\n",
    "    cbar = plt.colorbar(sst_plt, orientation='vertical', pad=0.05)\n",
    "    cbar.set_label('Sea Surface Temperature (°C)')\n",
    "\n",
    "    def update(frame):\n",
    "        sst_data = sst.isel(time=frame).values.flatten()\n",
    "        sst_plt.set_array(sst_data)\n",
    "        date_str = str(ds['time'].values[frame])[:10]\n",
    "        ax.set_title(f\"Sea Surface Temperature (SST), {date_str}\\n{params['short_name']}\", fontsize=14)\n",
    "        return sst_plt,\n",
    "\n",
    "    ani = FuncAnimation(fig, update, frames=len(sst.time), interval=interval, blit=False)\n",
    "\n",
    "    plt.tight_layout()\n",
    "    plt.show()\n",
    "\n",
    "    return ani\n"
   ]
  },
  {
   "cell_type": "markdown",
   "metadata": {},
   "source": [
    "---\n",
    "## Create the SST time series animation"
   ]
  },
  {
   "cell_type": "code",
   "execution_count": null,
   "metadata": {
    "colab": {
     "base_uri": "https://localhost:8080/",
     "height": 898
    },
    "id": "1N1Lx5qzsaKs",
    "outputId": "4c8da40c-a9ca-498c-f1fc-160f5bc9ca89"
   },
   "outputs": [],
   "source": [
    "from IPython.display import display, HTML\n",
    "\n",
    "anim = animate_sst(combined_ds, min_sst, max_sst, interval=400)\n",
    "display(HTML(anim.to_jshtml()))"
   ]
  },
  {
   "cell_type": "markdown",
   "metadata": {},
   "source": [
    "---\n",
    "## Save the animation as a gif"
   ]
  },
  {
   "cell_type": "code",
   "execution_count": null,
   "metadata": {
    "id": "HsXbwIpOxXxh"
   },
   "outputs": [],
   "source": [
    "from pathlib import Path\n",
    "\n",
    "animation_dir = data_path.parent / \"time_series_animations\"\n",
    "animation_dir.mkdir(parents=True, exist_ok=True)\n",
    "\n",
    "anim.save(animation_dir/f\"{params['short_name']}.gif\", writer='pillow', dpi=300)"
   ]
  },
  {
   "cell_type": "code",
   "execution_count": null,
   "metadata": {
    "id": "OSUWFQ0fxX04"
   },
   "outputs": [],
   "source": []
  }
 ],
 "metadata": {
  "colab": {
   "provenance": []
  },
  "kernelspec": {
   "display_name": "opensarlab_mintpy_recipe_book [conda env:.local-opensarlab_mintpy_recipe_book]",
   "language": "python",
   "name": "conda-env-.local-opensarlab_mintpy_recipe_book-opensarlab_mintpy_recipe_book"
  },
  "language_info": {
   "codemirror_mode": {
    "name": "ipython",
    "version": 3
   },
   "file_extension": ".py",
   "mimetype": "text/x-python",
   "name": "python",
   "nbconvert_exporter": "python",
   "pygments_lexer": "ipython3",
   "version": "3.9.18"
  },
  "widgets": {
   "application/vnd.jupyter.widget-state+json": {
    "085b983b1de84299858b962672a483bf": {
     "model_module": "@jupyter-widgets/controls",
     "model_module_version": "1.5.0",
     "model_name": "HTMLModel",
     "state": {
      "_dom_classes": [],
      "_model_module": "@jupyter-widgets/controls",
      "_model_module_version": "1.5.0",
      "_model_name": "HTMLModel",
      "_view_count": null,
      "_view_module": "@jupyter-widgets/controls",
      "_view_module_version": "1.5.0",
      "_view_name": "HTMLView",
      "description": "",
      "description_tooltip": null,
      "layout": "IPY_MODEL_ffb12c5064664c5ca8c4ce9732d576b8",
      "placeholder": "​",
      "style": "IPY_MODEL_d499343a8142420c9ee9e6598e490f76",
      "value": " 56/56 [08:23&lt;00:00,  8.71s/it]"
     }
    },
    "08ba4993e63f47e895acf312fac0c4a0": {
     "model_module": "@jupyter-widgets/base",
     "model_module_version": "1.2.0",
     "model_name": "LayoutModel",
     "state": {
      "_model_module": "@jupyter-widgets/base",
      "_model_module_version": "1.2.0",
      "_model_name": "LayoutModel",
      "_view_count": null,
      "_view_module": "@jupyter-widgets/base",
      "_view_module_version": "1.2.0",
      "_view_name": "LayoutView",
      "align_content": null,
      "align_items": null,
      "align_self": null,
      "border": null,
      "bottom": null,
      "display": null,
      "flex": null,
      "flex_flow": null,
      "grid_area": null,
      "grid_auto_columns": null,
      "grid_auto_flow": null,
      "grid_auto_rows": null,
      "grid_column": null,
      "grid_gap": null,
      "grid_row": null,
      "grid_template_areas": null,
      "grid_template_columns": null,
      "grid_template_rows": null,
      "height": null,
      "justify_content": null,
      "justify_items": null,
      "left": null,
      "margin": null,
      "max_height": null,
      "max_width": null,
      "min_height": null,
      "min_width": null,
      "object_fit": null,
      "object_position": null,
      "order": null,
      "overflow": null,
      "overflow_x": null,
      "overflow_y": null,
      "padding": null,
      "right": null,
      "top": null,
      "visibility": null,
      "width": null
     }
    },
    "194851164eb9469f9c5a1745afbf6d32": {
     "model_module": "@jupyter-widgets/base",
     "model_module_version": "1.2.0",
     "model_name": "LayoutModel",
     "state": {
      "_model_module": "@jupyter-widgets/base",
      "_model_module_version": "1.2.0",
      "_model_name": "LayoutModel",
      "_view_count": null,
      "_view_module": "@jupyter-widgets/base",
      "_view_module_version": "1.2.0",
      "_view_name": "LayoutView",
      "align_content": null,
      "align_items": null,
      "align_self": null,
      "border": null,
      "bottom": null,
      "display": null,
      "flex": null,
      "flex_flow": null,
      "grid_area": null,
      "grid_auto_columns": null,
      "grid_auto_flow": null,
      "grid_auto_rows": null,
      "grid_column": null,
      "grid_gap": null,
      "grid_row": null,
      "grid_template_areas": null,
      "grid_template_columns": null,
      "grid_template_rows": null,
      "height": null,
      "justify_content": null,
      "justify_items": null,
      "left": null,
      "margin": null,
      "max_height": null,
      "max_width": null,
      "min_height": null,
      "min_width": null,
      "object_fit": null,
      "object_position": null,
      "order": null,
      "overflow": null,
      "overflow_x": null,
      "overflow_y": null,
      "padding": null,
      "right": null,
      "top": null,
      "visibility": null,
      "width": null
     }
    },
    "1eee51c2c497403abb0fc9b19471408f": {
     "model_module": "@jupyter-widgets/base",
     "model_module_version": "1.2.0",
     "model_name": "LayoutModel",
     "state": {
      "_model_module": "@jupyter-widgets/base",
      "_model_module_version": "1.2.0",
      "_model_name": "LayoutModel",
      "_view_count": null,
      "_view_module": "@jupyter-widgets/base",
      "_view_module_version": "1.2.0",
      "_view_name": "LayoutView",
      "align_content": null,
      "align_items": null,
      "align_self": null,
      "border": null,
      "bottom": null,
      "display": null,
      "flex": null,
      "flex_flow": null,
      "grid_area": null,
      "grid_auto_columns": null,
      "grid_auto_flow": null,
      "grid_auto_rows": null,
      "grid_column": null,
      "grid_gap": null,
      "grid_row": null,
      "grid_template_areas": null,
      "grid_template_columns": null,
      "grid_template_rows": null,
      "height": null,
      "justify_content": null,
      "justify_items": null,
      "left": null,
      "margin": null,
      "max_height": null,
      "max_width": null,
      "min_height": null,
      "min_width": null,
      "object_fit": null,
      "object_position": null,
      "order": null,
      "overflow": null,
      "overflow_x": null,
      "overflow_y": null,
      "padding": null,
      "right": null,
      "top": null,
      "visibility": null,
      "width": null
     }
    },
    "2a3caee4d2d44d5591698c77aa76bd5d": {
     "model_module": "@jupyter-widgets/controls",
     "model_module_version": "1.5.0",
     "model_name": "DescriptionStyleModel",
     "state": {
      "_model_module": "@jupyter-widgets/controls",
      "_model_module_version": "1.5.0",
      "_model_name": "DescriptionStyleModel",
      "_view_count": null,
      "_view_module": "@jupyter-widgets/base",
      "_view_module_version": "1.2.0",
      "_view_name": "StyleView",
      "description_width": ""
     }
    },
    "3fa87066ee3140b286fa0afe654bea1f": {
     "model_module": "@jupyter-widgets/base",
     "model_module_version": "1.2.0",
     "model_name": "LayoutModel",
     "state": {
      "_model_module": "@jupyter-widgets/base",
      "_model_module_version": "1.2.0",
      "_model_name": "LayoutModel",
      "_view_count": null,
      "_view_module": "@jupyter-widgets/base",
      "_view_module_version": "1.2.0",
      "_view_name": "LayoutView",
      "align_content": null,
      "align_items": null,
      "align_self": null,
      "border": null,
      "bottom": null,
      "display": null,
      "flex": null,
      "flex_flow": null,
      "grid_area": null,
      "grid_auto_columns": null,
      "grid_auto_flow": null,
      "grid_auto_rows": null,
      "grid_column": null,
      "grid_gap": null,
      "grid_row": null,
      "grid_template_areas": null,
      "grid_template_columns": null,
      "grid_template_rows": null,
      "height": null,
      "justify_content": null,
      "justify_items": null,
      "left": null,
      "margin": null,
      "max_height": null,
      "max_width": null,
      "min_height": null,
      "min_width": null,
      "object_fit": null,
      "object_position": null,
      "order": null,
      "overflow": null,
      "overflow_x": null,
      "overflow_y": null,
      "padding": null,
      "right": null,
      "top": null,
      "visibility": null,
      "width": null
     }
    },
    "413468e3268c43c699c425824446b120": {
     "model_module": "@jupyter-widgets/controls",
     "model_module_version": "1.5.0",
     "model_name": "HBoxModel",
     "state": {
      "_dom_classes": [],
      "_model_module": "@jupyter-widgets/controls",
      "_model_module_version": "1.5.0",
      "_model_name": "HBoxModel",
      "_view_count": null,
      "_view_module": "@jupyter-widgets/controls",
      "_view_module_version": "1.5.0",
      "_view_name": "HBoxView",
      "box_style": "",
      "children": [
       "IPY_MODEL_43a55e61fd8e4e0891b6fc18bf9278b6",
       "IPY_MODEL_9f439677cd604adba24ed57527f854bf",
       "IPY_MODEL_d87ccdb6f715408998f5025c273569c3"
      ],
      "layout": "IPY_MODEL_08ba4993e63f47e895acf312fac0c4a0"
     }
    },
    "43a55e61fd8e4e0891b6fc18bf9278b6": {
     "model_module": "@jupyter-widgets/controls",
     "model_module_version": "1.5.0",
     "model_name": "HTMLModel",
     "state": {
      "_dom_classes": [],
      "_model_module": "@jupyter-widgets/controls",
      "_model_module_version": "1.5.0",
      "_model_name": "HTMLModel",
      "_view_count": null,
      "_view_module": "@jupyter-widgets/controls",
      "_view_module_version": "1.5.0",
      "_view_name": "HTMLView",
      "description": "",
      "description_tooltip": null,
      "layout": "IPY_MODEL_fc0ec6031d164a55bd55738bb7d75fb7",
      "placeholder": "​",
      "style": "IPY_MODEL_90613bd1c0d1483cb5c54d428ce73773",
      "value": "100%"
     }
    },
    "7ff5be55b7dd4b4e9f8a3499583961a6": {
     "model_module": "@jupyter-widgets/controls",
     "model_module_version": "1.5.0",
     "model_name": "ProgressStyleModel",
     "state": {
      "_model_module": "@jupyter-widgets/controls",
      "_model_module_version": "1.5.0",
      "_model_name": "ProgressStyleModel",
      "_view_count": null,
      "_view_module": "@jupyter-widgets/base",
      "_view_module_version": "1.2.0",
      "_view_name": "StyleView",
      "bar_color": null,
      "description_width": ""
     }
    },
    "824dbfa3b51d41bd941460bd69aacff6": {
     "model_module": "@jupyter-widgets/controls",
     "model_module_version": "1.5.0",
     "model_name": "ProgressStyleModel",
     "state": {
      "_model_module": "@jupyter-widgets/controls",
      "_model_module_version": "1.5.0",
      "_model_name": "ProgressStyleModel",
      "_view_count": null,
      "_view_module": "@jupyter-widgets/base",
      "_view_module_version": "1.2.0",
      "_view_name": "StyleView",
      "bar_color": null,
      "description_width": ""
     }
    },
    "854d15e5c85042c4a4441adcaabc292b": {
     "model_module": "@jupyter-widgets/base",
     "model_module_version": "1.2.0",
     "model_name": "LayoutModel",
     "state": {
      "_model_module": "@jupyter-widgets/base",
      "_model_module_version": "1.2.0",
      "_model_name": "LayoutModel",
      "_view_count": null,
      "_view_module": "@jupyter-widgets/base",
      "_view_module_version": "1.2.0",
      "_view_name": "LayoutView",
      "align_content": null,
      "align_items": null,
      "align_self": null,
      "border": null,
      "bottom": null,
      "display": null,
      "flex": null,
      "flex_flow": null,
      "grid_area": null,
      "grid_auto_columns": null,
      "grid_auto_flow": null,
      "grid_auto_rows": null,
      "grid_column": null,
      "grid_gap": null,
      "grid_row": null,
      "grid_template_areas": null,
      "grid_template_columns": null,
      "grid_template_rows": null,
      "height": null,
      "justify_content": null,
      "justify_items": null,
      "left": null,
      "margin": null,
      "max_height": null,
      "max_width": null,
      "min_height": null,
      "min_width": null,
      "object_fit": null,
      "object_position": null,
      "order": null,
      "overflow": null,
      "overflow_x": null,
      "overflow_y": null,
      "padding": null,
      "right": null,
      "top": null,
      "visibility": null,
      "width": null
     }
    },
    "85d93fc80a874a3991704982a014979b": {
     "model_module": "@jupyter-widgets/controls",
     "model_module_version": "1.5.0",
     "model_name": "DescriptionStyleModel",
     "state": {
      "_model_module": "@jupyter-widgets/controls",
      "_model_module_version": "1.5.0",
      "_model_name": "DescriptionStyleModel",
      "_view_count": null,
      "_view_module": "@jupyter-widgets/base",
      "_view_module_version": "1.2.0",
      "_view_name": "StyleView",
      "description_width": ""
     }
    },
    "8f21a795edf141949913e9822d66c34b": {
     "model_module": "@jupyter-widgets/base",
     "model_module_version": "1.2.0",
     "model_name": "LayoutModel",
     "state": {
      "_model_module": "@jupyter-widgets/base",
      "_model_module_version": "1.2.0",
      "_model_name": "LayoutModel",
      "_view_count": null,
      "_view_module": "@jupyter-widgets/base",
      "_view_module_version": "1.2.0",
      "_view_name": "LayoutView",
      "align_content": null,
      "align_items": null,
      "align_self": null,
      "border": null,
      "bottom": null,
      "display": null,
      "flex": null,
      "flex_flow": null,
      "grid_area": null,
      "grid_auto_columns": null,
      "grid_auto_flow": null,
      "grid_auto_rows": null,
      "grid_column": null,
      "grid_gap": null,
      "grid_row": null,
      "grid_template_areas": null,
      "grid_template_columns": null,
      "grid_template_rows": null,
      "height": null,
      "justify_content": null,
      "justify_items": null,
      "left": null,
      "margin": null,
      "max_height": null,
      "max_width": null,
      "min_height": null,
      "min_width": null,
      "object_fit": null,
      "object_position": null,
      "order": null,
      "overflow": null,
      "overflow_x": null,
      "overflow_y": null,
      "padding": null,
      "right": null,
      "top": null,
      "visibility": null,
      "width": null
     }
    },
    "90613bd1c0d1483cb5c54d428ce73773": {
     "model_module": "@jupyter-widgets/controls",
     "model_module_version": "1.5.0",
     "model_name": "DescriptionStyleModel",
     "state": {
      "_model_module": "@jupyter-widgets/controls",
      "_model_module_version": "1.5.0",
      "_model_name": "DescriptionStyleModel",
      "_view_count": null,
      "_view_module": "@jupyter-widgets/base",
      "_view_module_version": "1.2.0",
      "_view_name": "StyleView",
      "description_width": ""
     }
    },
    "91318ea085ec40f1bdc05c6210e41062": {
     "model_module": "@jupyter-widgets/controls",
     "model_module_version": "1.5.0",
     "model_name": "FloatProgressModel",
     "state": {
      "_dom_classes": [],
      "_model_module": "@jupyter-widgets/controls",
      "_model_module_version": "1.5.0",
      "_model_name": "FloatProgressModel",
      "_view_count": null,
      "_view_module": "@jupyter-widgets/controls",
      "_view_module_version": "1.5.0",
      "_view_name": "ProgressView",
      "bar_style": "success",
      "description": "",
      "description_tooltip": null,
      "layout": "IPY_MODEL_1eee51c2c497403abb0fc9b19471408f",
      "max": 56,
      "min": 0,
      "orientation": "horizontal",
      "style": "IPY_MODEL_824dbfa3b51d41bd941460bd69aacff6",
      "value": 56
     }
    },
    "982d152ac6794750803e7eaf672fd23e": {
     "model_module": "@jupyter-widgets/controls",
     "model_module_version": "1.5.0",
     "model_name": "HTMLModel",
     "state": {
      "_dom_classes": [],
      "_model_module": "@jupyter-widgets/controls",
      "_model_module_version": "1.5.0",
      "_model_name": "HTMLModel",
      "_view_count": null,
      "_view_module": "@jupyter-widgets/controls",
      "_view_module_version": "1.5.0",
      "_view_name": "HTMLView",
      "description": "",
      "description_tooltip": null,
      "layout": "IPY_MODEL_854d15e5c85042c4a4441adcaabc292b",
      "placeholder": "​",
      "style": "IPY_MODEL_2a3caee4d2d44d5591698c77aa76bd5d",
      "value": "100%"
     }
    },
    "9cae179a57944899bf9192cef6b43516": {
     "model_module": "@jupyter-widgets/controls",
     "model_module_version": "1.5.0",
     "model_name": "HBoxModel",
     "state": {
      "_dom_classes": [],
      "_model_module": "@jupyter-widgets/controls",
      "_model_module_version": "1.5.0",
      "_model_name": "HBoxModel",
      "_view_count": null,
      "_view_module": "@jupyter-widgets/controls",
      "_view_module_version": "1.5.0",
      "_view_name": "HBoxView",
      "box_style": "",
      "children": [
       "IPY_MODEL_982d152ac6794750803e7eaf672fd23e",
       "IPY_MODEL_91318ea085ec40f1bdc05c6210e41062",
       "IPY_MODEL_085b983b1de84299858b962672a483bf"
      ],
      "layout": "IPY_MODEL_3fa87066ee3140b286fa0afe654bea1f"
     }
    },
    "9f439677cd604adba24ed57527f854bf": {
     "model_module": "@jupyter-widgets/controls",
     "model_module_version": "1.5.0",
     "model_name": "FloatProgressModel",
     "state": {
      "_dom_classes": [],
      "_model_module": "@jupyter-widgets/controls",
      "_model_module_version": "1.5.0",
      "_model_name": "FloatProgressModel",
      "_view_count": null,
      "_view_module": "@jupyter-widgets/controls",
      "_view_module_version": "1.5.0",
      "_view_name": "ProgressView",
      "bar_style": "success",
      "description": "",
      "description_tooltip": null,
      "layout": "IPY_MODEL_8f21a795edf141949913e9822d66c34b",
      "max": 112,
      "min": 0,
      "orientation": "horizontal",
      "style": "IPY_MODEL_7ff5be55b7dd4b4e9f8a3499583961a6",
      "value": 112
     }
    },
    "d499343a8142420c9ee9e6598e490f76": {
     "model_module": "@jupyter-widgets/controls",
     "model_module_version": "1.5.0",
     "model_name": "DescriptionStyleModel",
     "state": {
      "_model_module": "@jupyter-widgets/controls",
      "_model_module_version": "1.5.0",
      "_model_name": "DescriptionStyleModel",
      "_view_count": null,
      "_view_module": "@jupyter-widgets/base",
      "_view_module_version": "1.2.0",
      "_view_name": "StyleView",
      "description_width": ""
     }
    },
    "d87ccdb6f715408998f5025c273569c3": {
     "model_module": "@jupyter-widgets/controls",
     "model_module_version": "1.5.0",
     "model_name": "HTMLModel",
     "state": {
      "_dom_classes": [],
      "_model_module": "@jupyter-widgets/controls",
      "_model_module_version": "1.5.0",
      "_model_name": "HTMLModel",
      "_view_count": null,
      "_view_module": "@jupyter-widgets/controls",
      "_view_module_version": "1.5.0",
      "_view_name": "HTMLView",
      "description": "",
      "description_tooltip": null,
      "layout": "IPY_MODEL_194851164eb9469f9c5a1745afbf6d32",
      "placeholder": "​",
      "style": "IPY_MODEL_85d93fc80a874a3991704982a014979b",
      "value": " 112/112 [04:02&lt;00:00,  2.16s/it]"
     }
    },
    "fc0ec6031d164a55bd55738bb7d75fb7": {
     "model_module": "@jupyter-widgets/base",
     "model_module_version": "1.2.0",
     "model_name": "LayoutModel",
     "state": {
      "_model_module": "@jupyter-widgets/base",
      "_model_module_version": "1.2.0",
      "_model_name": "LayoutModel",
      "_view_count": null,
      "_view_module": "@jupyter-widgets/base",
      "_view_module_version": "1.2.0",
      "_view_name": "LayoutView",
      "align_content": null,
      "align_items": null,
      "align_self": null,
      "border": null,
      "bottom": null,
      "display": null,
      "flex": null,
      "flex_flow": null,
      "grid_area": null,
      "grid_auto_columns": null,
      "grid_auto_flow": null,
      "grid_auto_rows": null,
      "grid_column": null,
      "grid_gap": null,
      "grid_row": null,
      "grid_template_areas": null,
      "grid_template_columns": null,
      "grid_template_rows": null,
      "height": null,
      "justify_content": null,
      "justify_items": null,
      "left": null,
      "margin": null,
      "max_height": null,
      "max_width": null,
      "min_height": null,
      "min_width": null,
      "object_fit": null,
      "object_position": null,
      "order": null,
      "overflow": null,
      "overflow_x": null,
      "overflow_y": null,
      "padding": null,
      "right": null,
      "top": null,
      "visibility": null,
      "width": null
     }
    },
    "ffb12c5064664c5ca8c4ce9732d576b8": {
     "model_module": "@jupyter-widgets/base",
     "model_module_version": "1.2.0",
     "model_name": "LayoutModel",
     "state": {
      "_model_module": "@jupyter-widgets/base",
      "_model_module_version": "1.2.0",
      "_model_name": "LayoutModel",
      "_view_count": null,
      "_view_module": "@jupyter-widgets/base",
      "_view_module_version": "1.2.0",
      "_view_name": "LayoutView",
      "align_content": null,
      "align_items": null,
      "align_self": null,
      "border": null,
      "bottom": null,
      "display": null,
      "flex": null,
      "flex_flow": null,
      "grid_area": null,
      "grid_auto_columns": null,
      "grid_auto_flow": null,
      "grid_auto_rows": null,
      "grid_column": null,
      "grid_gap": null,
      "grid_row": null,
      "grid_template_areas": null,
      "grid_template_columns": null,
      "grid_template_rows": null,
      "height": null,
      "justify_content": null,
      "justify_items": null,
      "left": null,
      "margin": null,
      "max_height": null,
      "max_width": null,
      "min_height": null,
      "min_width": null,
      "object_fit": null,
      "object_position": null,
      "order": null,
      "overflow": null,
      "overflow_x": null,
      "overflow_y": null,
      "padding": null,
      "right": null,
      "top": null,
      "visibility": null,
      "width": null
     }
    }
   }
  }
 },
 "nbformat": 4,
 "nbformat_minor": 4
}
