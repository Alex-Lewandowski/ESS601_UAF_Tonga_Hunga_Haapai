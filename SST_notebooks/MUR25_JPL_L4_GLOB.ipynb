{
 "cells": [
  {
   "cell_type": "markdown",
   "metadata": {
    "id": "hhtGFT-xWWwx"
   },
   "source": [
    "## GHRSST Level 4 MUR 0.25deg Global Foundation Sea Surface Temperature Analysis (v4.2)\n",
    "\n",
    "Data summary from UMM metadata:\n",
    ">A Group for High Resolution Sea Surface Temperature (GHRSST) Level 4 sea surface temperature analysis produced as a retrospective dataset  at the JPL Physical Oceanography DAAC using wavelets as basis functions in an optimal interpolation approach on a global 0.25 degree grid. The version 4 Multiscale Ultrahigh Resolution (MUR) L4 analysis is based upon nighttime GHRSST L2P skin and subskin SST observations from several instruments including the NASA Advanced Microwave Scanning Radiometer-EOS (AMSR-E), the JAXA Advanced Microwave Scanning Radiometer 2 on GCOM-W1, the Moderate Resolution Imaging Spectroradiometers (MODIS) on the NASA Aqua and Terra platforms, the US Navy microwave WindSat radiometer, the Advanced Very High Resolution Radiometer (AVHRR) on several NOAA satellites, and in situ SST observations from the NOAA iQuam project. The ice concentration data are from the archives at the EUMETSAT Ocean and Sea Ice Satellite Application Facility (OSI SAF) High Latitude Processing Center and are also used for an improved SST parameterization for the high-latitudes. The dataset also contains an additional SST anomaly variable derived from a MUR climatology (average between 2003 and 2014). This dataset was originally funded by the NASA MEaSUREs program (http://earthdata.nasa.gov/our-community/community-data-system-programs/measures-projects ) and the NASA CEOS COVERAGE project and created by a team led by Dr. Toshio M. Chin from JPL. It adheres to the GHRSST Data Processing Specification (GDS) version 2 format specifications.\n",
    "\n",
    "---\n",
    "\n",
    ">## The foundation temperature (SSTfnd)\n",
    ">\n",
    ">The foundation SST, SSTfnd, is the temperature free of diurnal temperature variability, i.e., SSTfnd is defined as the temperature at the first time of the day when the heat gain from the solar radiation absorption exceeds the heat loss at the sea surface. For conditions, when the SST increases or decreases monotonically over several days, the Tfnd occurs on a given day when the time rate of change of temperature is at a minimum (increasing SST), or a maximum (decreasing SST). If such a point in the daily time series cannot be identified, the SSTfnd should be set to a clearly stated time. SSTfnd is named to indicate that it is the foundation temperature upon which the growth and decay of the diurnal heating develop each day. Only in situ contact thermometry is able to measure SSTfnd and analysis.\n",
    ">\\- [*GHRSST Product Intro*](https://www.ghrsst.org/ghrsst-data-services/for-sst-data-users/products/)\n"
   ]
  },
  {
   "cell_type": "code",
   "execution_count": null,
   "metadata": {
    "id": "0dk7kDm_aE3b"
   },
   "outputs": [],
   "source": [
    "center_lat = -20.54953\n",
    "center_lon = -175.40914\n",
    "radius_km = 200"
   ]
  },
  {
   "cell_type": "code",
   "execution_count": null,
   "metadata": {
    "colab": {
     "base_uri": "https://localhost:8080/"
    },
    "id": "nl2SZlol8IV7",
    "outputId": "3b781857-a7b3-41c2-9c1a-65901312d093",
    "scrolled": true
   },
   "outputs": [],
   "source": [
    "import requests\n",
    "\n",
    "from urllib.parse import quote\n",
    "\n",
    "cmr_granule_search_url = \"https://cmr.earthdata.nasa.gov/search/granules.json\"\n",
    "\n",
    "params = {\n",
    "    'short_name': 'MUR25-JPL-L4-GLOB-v04.2',\n",
    "    'page_size': 500,\n",
    "    'temporal': '2022-01-08T00:00:00,2022-01-23T23:59:59',\n",
    "    'point': f'{center_lon},{center_lat}'\n",
    "}\n",
    "\n",
    "response = requests.get(cmr_granule_search_url, params=params)\n",
    "\n",
    "download_urls = []\n",
    "\n",
    "if response.status_code == 200:\n",
    "    data = response.json()\n",
    "    granules = data['feed']['entry']\n",
    "\n",
    "    for granule in granules:\n",
    "        print(f\"Granule Title: {granule['title']}\")\n",
    "        print(f\"collection_concept_id: {granule['collection_concept_id']}\")\n",
    "        print(\"Download URLs:\")\n",
    "        for link in granule['links']:\n",
    "          if 'title' in link.keys() and '.nc' in link['title']:\n",
    "            print(link['href'])\n",
    "            download_urls.append(link['href'])\n",
    "        print()\n",
    "else:\n",
    "    print(f\"Error {response.status_code}: {response.text}\")\n"
   ]
  },
  {
   "cell_type": "markdown",
   "metadata": {
    "id": "XRWWIfJ0a0Xe"
   },
   "source": [
    "---\n",
    "## Create a directory to hold the data"
   ]
  },
  {
   "cell_type": "code",
   "execution_count": null,
   "metadata": {
    "id": "QntUUKFaVI8v"
   },
   "outputs": [],
   "source": [
    "from pathlib import Path\n",
    "\n",
    "data_path = Path.cwd().parent / f\"Tonga/{params['short_name']}\"\n",
    "data_path.mkdir(parents=True, exist_ok=True)"
   ]
  },
  {
   "cell_type": "code",
   "execution_count": null,
   "metadata": {
    "id": "qYi2XU2dj4jg"
   },
   "outputs": [],
   "source": [
    "# import shutil\n",
    "\n",
    "# shutil.rmtree(data_path)"
   ]
  },
  {
   "cell_type": "markdown",
   "metadata": {
    "id": "EWsRvqppbIYE"
   },
   "source": [
    "---\n",
    "## Download the data"
   ]
  },
  {
   "cell_type": "code",
   "execution_count": null,
   "metadata": {
    "colab": {
     "base_uri": "https://localhost:8080/",
     "height": 1000,
     "referenced_widgets": [
      "41242941f9844b6aa77b93a6383f7dc3",
      "d2c06bcc1ba7426da5efa828ea7bbe85",
      "f37f3949ad3947049dc6cd7e170b4a95",
      "1f8be24d691e4dddb0095b6a401b43a1",
      "d9221e6a16644ebc8ac3fcab42f782aa",
      "f340e2043dd44d7096311ced8d38366c",
      "a82f8150a299483a9407b7b17a762f72",
      "62be9f650dab47ecb68ed04832e50360",
      "053d646d155c486f9232dfa0ca2b2726",
      "8fbbcfb773124c7094ee4fb3910e8158",
      "0c85567502904068bff044671a7d1087"
     ]
    },
    "id": "tfvSTa-cETdt",
    "outputId": "ace34a3d-2472-48c3-ef92-6cceb0c935ab"
   },
   "outputs": [],
   "source": [
    "from getpass import getpass\n",
    "from requests.auth import HTTPBasicAuth\n",
    "from tqdm.auto import tqdm\n",
    "\n",
    "username = input('Earthdata username')\n",
    "password = getpass('Earthdata password')\n",
    "\n",
    "for url in tqdm(download_urls):\n",
    "  output_path = data_path / url.split('/')[-1]\n",
    "  if not output_path.exists():\n",
    "    !wget --user={username} --password={password} {url} -O {output_path}\n",
    "\n",
    "del username\n",
    "del password"
   ]
  },
  {
   "cell_type": "markdown",
   "metadata": {
    "id": "IAdY9WcGh1tq"
   },
   "source": [
    "---\n",
    "## Find the paths to the downloaded data"
   ]
  },
  {
   "cell_type": "code",
   "execution_count": null,
   "metadata": {
    "colab": {
     "base_uri": "https://localhost:8080/"
    },
    "id": "sJf2dTrEXNGS",
    "outputId": "4b9514d6-b16b-4f14-a73c-0b7f04ee2c2d"
   },
   "outputs": [],
   "source": [
    "l2b_paths = list(data_path.glob('*.nc'))\n",
    "l2b_paths"
   ]
  },
  {
   "cell_type": "markdown",
   "metadata": {
    "id": "vrP62Pg6h-7i"
   },
   "source": [
    "---\n",
    "## Subset the data to an AOI defined by a radius around a center coordinate\n",
    "\n",
    "**Functions used to subset the data to our AOI and sanitize non-utf-8 data attributes**"
   ]
  },
  {
   "cell_type": "code",
   "execution_count": null,
   "metadata": {
    "id": "PuAPJ58nHunK"
   },
   "outputs": [],
   "source": [
    "import xarray as xr\n",
    "import numpy as np\n",
    "from geopy.distance import great_circle\n",
    "\n",
    "import numpy as np\n",
    "import xarray as xr\n",
    "from math import cos, radians\n",
    "\n",
    "def clip_to_box_around_point_km(dataset, center_lat, center_lon, distance_km, lat_name='lat', lon_name='lon'):\n",
    "    \"\"\"\n",
    "    Clip the dataset to a box around the given WGS84 coordinate (center_lat, center_lon)\n",
    "    with a box defined by a distance in kilometers from center. distance_km = side length / 2\n",
    "\n",
    "    Parameters:\n",
    "    - dataset: xarray Dataset to be clipped.\n",
    "    - center_lat: Latitude of the center point\n",
    "    - center_lon: Longitude of the center point\n",
    "    - distance_km: Distance in kilometers to create a bounding box around the point.\n",
    "    - lat_name: Name of the latitude coordinate in the dataset.\n",
    "    - lon_name: Name of the longitude coordinate in the dataset.\n",
    "\n",
    "    Returns:\n",
    "    - Clipped xarray Dataset.\n",
    "    \"\"\"\n",
    "\n",
    "    lat_degree_km = 111.32\n",
    "    delta_lat = distance_km / lat_degree_km\n",
    "    lon_degree_km = lat_degree_km * cos(radians(center_lat))\n",
    "    delta_lon = distance_km / lon_degree_km\n",
    "\n",
    "\n",
    "    min_lat = center_lat - delta_lat\n",
    "    max_lat = center_lat + delta_lat\n",
    "    min_lon = center_lon - delta_lon\n",
    "    max_lon = center_lon + delta_lon\n",
    "\n",
    "    if min_lon < -180:\n",
    "        min_lon += 360\n",
    "    if max_lon > 180:\n",
    "        max_lon -= 360\n",
    "\n",
    "    lat = dataset[lat_name]\n",
    "    lon = dataset[lon_name]\n",
    "\n",
    "    mask = (\n",
    "        (lat >= min_lat) & (lat <= max_lat) &\n",
    "        (lon >= min_lon) & (lon <= max_lon)\n",
    "    )\n",
    "\n",
    "    clipped_dataset = dataset.where(mask, drop=True)\n",
    "\n",
    "    return clipped_dataset\n",
    "    \n",
    "\n",
    "def subset_to_haversine_radius(\n",
    "    dataset: xr.Dataset,\n",
    "    lat_name: str,\n",
    "    lon_name: str,\n",
    "    center_lat: float,\n",
    "    center_lon: float,\n",
    "    radius_km: float\n",
    "    ) -> xr.Dataset:\n",
    "    \"\"\"\n",
    "    Subset an xarray.Dataset to only include points within a given radius using Haversine distance.\n",
    "\n",
    "    Parameters:\n",
    "    - dataset (xarray.Dataset): dataset containing latitude and longitude data\n",
    "    - lat_name (str): name of the latitude variable in the dataset\n",
    "    - lon_name (str): name of the longitude variable in the dataset\n",
    "    - center_lat (float): latitude of the center point\n",
    "    - center_lon (float): longitude of the center point\n",
    "    - radius_km (float): radius around the center point (in kilometers) to include in the subset.\n",
    "\n",
    "    Returns (xarray.Dataset): subset dataset with only the points within the specified radius.\n",
    "    \"\"\"\n",
    "\n",
    "    lat = dataset[lat_name].values\n",
    "    lon = dataset[lon_name].values\n",
    "\n",
    "    lat_dims = dataset[lat_name].dims\n",
    "    lon_dims = dataset[lon_name].dims\n",
    "\n",
    "    # handle flattened data\n",
    "    if len(lon.shape) == 1 and len(lat.shape) == 1:\n",
    "        lon, lat = np.meshgrid(lon, lat)\n",
    "\n",
    "    distance_mask = np.zeros(lon.shape, dtype=bool)\n",
    "\n",
    "    for i in range(lon.shape[0]):\n",
    "        for j in range(lon.shape[1]):\n",
    "            point_lat = lat[i, j]\n",
    "            point_lon = lon[i, j]\n",
    "            if not np.isnan(point_lat) and not np.isnan(point_lon):\n",
    "                distance = great_circle((center_lat, center_lon), (point_lat, point_lon)).kilometers\n",
    "                if distance <= radius_km:\n",
    "                    distance_mask[i, j] = True\n",
    "\n",
    "    if len(lat_dims) > 1:\n",
    "      distance_mask_da = xr.DataArray(distance_mask, dims=lat_dims, coords={lat_dims[0]: dataset[lat_dims[0]], lat_dims[1]: dataset[lat_dims[1]]})\n",
    "    else:\n",
    "      distance_mask_da = xr.DataArray(distance_mask, dims=('lat', 'lon'),  coords={'lat': dataset['lat'], 'lon': dataset['lon']})\n",
    "\n",
    "\n",
    "    return dataset.where(distance_mask_da) #, drop=True)\n",
    "\n",
    "\n",
    "def clean_attributes(ds):\n",
    "    \"\"\"\n",
    "    Cleans non-utf-8-encodable data attributes so they can be loaded by xarray\n",
    "\n",
    "    Parameters:\n",
    "    - ds (xarray.Dataset): dataset whose attributes may contain non-utf-8-encodable characters\n",
    "\n",
    "    Returns (xarray.Dataset): dataset whose non-utf-8-encodable attributes have been made utf-8 encodable\n",
    "    \"\"\"\n",
    "    for var in ds.variables:\n",
    "        for attr, value in ds[var].attrs.items():\n",
    "            if isinstance(value, str):\n",
    "                try:\n",
    "                    ds[var].attrs[attr] = value.encode('utf-8').decode('utf-8')\n",
    "                except UnicodeEncodeError:\n",
    "                    ds[var].attrs[attr] = value.encode('utf-8', 'replace').decode('utf-8')\n",
    "    return ds\n"
   ]
  },
  {
   "cell_type": "markdown",
   "metadata": {
    "id": "2fZcMjMzr2jF"
   },
   "source": [
    "**Subset the data**"
   ]
  },
  {
   "cell_type": "code",
   "execution_count": null,
   "metadata": {
    "colab": {
     "base_uri": "https://localhost:8080/",
     "height": 49,
     "referenced_widgets": [
      "b281fd76f777488087fddd83b6b7feed",
      "630978c02cde4d84baedb7bccd864f47",
      "70fe3385a1a040119fc38647cfffed1c",
      "294456a3c4264fa9bae7c208b35a5d2d",
      "d979f022478c423483e71b358440391e",
      "5d251e84d8a9405c8ca12a54c51b7d8e",
      "8cec1a5f2fb34a4db3f2518ae874ba78",
      "b0d2794ea0504c35888766b00d5bfde5",
      "69a5e7dc18b84e928eef05a674bfc8da",
      "1079b5f595a646a78a83b0dd4b14b062",
      "154732ef175c42388a7733341c703985"
     ]
    },
    "id": "GeU_BtVBHuzA",
    "outputId": "ece607e6-43d9-4151-88ee-49bff6ff52e3"
   },
   "outputs": [],
   "source": [
    "from tqdm.auto import tqdm\n",
    "import xarray as xr\n",
    "\n",
    "for pth in tqdm(l2b_paths):\n",
    "\n",
    "  ds = xr.open_dataset(pth)\n",
    "\n",
    "  ds = clean_attributes(ds)\n",
    "\n",
    "\n",
    "  for var in ds.data_vars:\n",
    "      if ds[var].dtype in ['int16', 'int32']:\n",
    "          ds[var] = ds[var].astype('float32')\n",
    "\n",
    "  ds = xr.decode_cf(ds)\n",
    "\n",
    "  subset = clip_to_box_around_point_km(ds, center_lat, center_lon, radius_km)\n",
    "\n",
    "  subset = subset_to_haversine_radius(subset, 'lat', 'lon', center_lat, center_lon, radius_km)\n",
    "\n",
    "  output_pth = pth.parent / f\"{pth.name.split('.nc')[0]}_subset.nc\"\n",
    "  subset.to_netcdf(output_pth)\n",
    "\n",
    "  pth.unlink()"
   ]
  },
  {
   "cell_type": "markdown",
   "metadata": {
    "id": "rqPGRSBWiaq2"
   },
   "source": [
    "---\n",
    "# Find the paths to the subset data"
   ]
  },
  {
   "cell_type": "code",
   "execution_count": null,
   "metadata": {
    "colab": {
     "base_uri": "https://localhost:8080/"
    },
    "id": "SLcRORMXiZoN",
    "outputId": "54f92192-0357-40a6-e207-b2158536cc62"
   },
   "outputs": [],
   "source": [
    "l2b_paths = sorted(list(data_path.glob('*subset.nc')))\n",
    "l2b_paths"
   ]
  },
  {
   "cell_type": "markdown",
   "metadata": {
    "id": "EZOx6SOoyYYt"
   },
   "source": [
    "---\n",
    "## Explore the structure of one of the datasets"
   ]
  },
  {
   "cell_type": "code",
   "execution_count": null,
   "metadata": {
    "colab": {
     "base_uri": "https://localhost:8080/",
     "height": 449
    },
    "id": "ssSTt7XLxzh0",
    "outputId": "fc737a9f-526d-477a-8083-2ddf4bf92ca8"
   },
   "outputs": [],
   "source": [
    "import xarray as xr\n",
    "\n",
    "ds = xr.open_dataset(l2b_paths[2])\n",
    "ds"
   ]
  },
  {
   "cell_type": "markdown",
   "metadata": {},
   "source": [
    "---\n",
    "## Remove outliers (or don't)"
   ]
  },
  {
   "cell_type": "code",
   "execution_count": null,
   "metadata": {
    "colab": {
     "base_uri": "https://localhost:8080/"
    },
    "id": "Cyu5peZa8Aac",
    "outputId": "7d35e8a2-55f8-48b1-d159-cdcc6fb2d531"
   },
   "outputs": [],
   "source": [
    "import numpy as np\n",
    "\n",
    "min_sst = 999.0\n",
    "max_sst = 0.0\n",
    "\n",
    "for pth in l2b_paths:\n",
    "    ds = xr.open_dataset(pth)\n",
    "    if not ds['analysed_sst'].isnull().all():\n",
    "      min_sst = np.nanmin([min_sst, ds['analysed_sst'].quantile(0.0)]) # adjust quantile to remove outliers on the low end\n",
    "      max_sst = np.nanmax([max_sst, ds['analysed_sst'].quantile(1.0)]) # adjust quantile to remove outliers on the high end\n",
    "\n",
    "print((min_sst-273.15, max_sst-273.15))"
   ]
  },
  {
   "cell_type": "markdown",
   "metadata": {},
   "source": [
    "---\n",
    "## Plot SST distributions"
   ]
  },
  {
   "cell_type": "code",
   "execution_count": null,
   "metadata": {
    "colab": {
     "base_uri": "https://localhost:8080/",
     "height": 1000
    },
    "id": "Sb8qr6NRMEV0",
    "outputId": "d20a3f36-4270-46ea-afbc-4fc53593bfae",
    "scrolled": true
   },
   "outputs": [],
   "source": [
    "import matplotlib.pyplot as plt\n",
    "\n",
    "for pth in l2b_paths:\n",
    "  ds = xr.open_dataset(pth)\n",
    "\n",
    "  try:\n",
    "    plt.hist(ds['analysed_sst'].values.flatten()-273.15, bins=50)\n",
    "    date_str = f\"{ds.attrs['start_time'][:4]}-{ds.attrs['start_time'][4:6]}-{ds.attrs['start_time'][6:8]}\"\n",
    "    plt.title(f'SST Temperature Distribution: {date_str}')\n",
    "    plt.xlabel('Temperature (°C)')\n",
    "    plt.ylabel('Frequency')\n",
    "    plt.show()\n",
    "  except ValueError:\n",
    "    pass"
   ]
  },
  {
   "cell_type": "markdown",
   "metadata": {},
   "source": [
    "---\n",
    "## Concatenate all time steps into a single Dataset along the 'time' dimension\n",
    "\n",
    "- drop any empty datasets"
   ]
  },
  {
   "cell_type": "code",
   "execution_count": null,
   "metadata": {},
   "outputs": [],
   "source": [
    "combined_ds = xr.open_mfdataset(l2b_paths, concat_dim='time', combine='nested')\n",
    "combined_ds = combined_ds.dropna(dim='time', subset=['analysed_sst'], how='all')\n",
    "combined_ds"
   ]
  },
  {
   "cell_type": "markdown",
   "metadata": {},
   "source": [
    "---\n",
    "## Function to create a time series animation"
   ]
  },
  {
   "cell_type": "code",
   "execution_count": null,
   "metadata": {
    "colab": {
     "base_uri": "https://localhost:8080/"
    },
    "id": "otFbLbeB0fl2",
    "outputId": "c2454243-04c1-4a8c-ed90-226fa8fdb8a0"
   },
   "outputs": [],
   "source": [
    "# !python -m pip install cartopy"
   ]
  },
  {
   "cell_type": "code",
   "execution_count": null,
   "metadata": {},
   "outputs": [],
   "source": [
    "import matplotlib.pyplot as plt\n",
    "import numpy as np\n",
    "import xarray as xr\n",
    "import cartopy.crs as ccrs\n",
    "import cartopy.feature as cfeature\n",
    "import cartopy.io.img_tiles as cimgt\n",
    "import cartopy.mpl.ticker as cticker\n",
    "from matplotlib.animation import FuncAnimation\n",
    "\n",
    "plt.rcParams['animation.embed_limit'] = 100\n",
    "\n",
    "%matplotlib notebook\n",
    "\n",
    "def animate_sst(ds, min_sst, max_sst, interval=200):\n",
    "    K_CONST = 273.15\n",
    "\n",
    "    sst = ds['analysed_sst'] - K_CONST  # Convert to Celsius\n",
    "\n",
    "    min_sst_c = min_sst - K_CONST\n",
    "    max_sst_c = max_sst - K_CONST\n",
    "\n",
    "    if np.isnan(sst).all():\n",
    "        print(f'SST data layer empty. Skipping plot.')\n",
    "        return\n",
    "\n",
    "    lat = ds['lat'].values\n",
    "    lon = ds['lon'].values\n",
    "    lon_grid, lat_grid = np.meshgrid(lon, lat)\n",
    "    lon_data = lon_grid.flatten()\n",
    "    lat_data = lat_grid.flatten()\n",
    "\n",
    "    fig = plt.figure(figsize=(8, 8))\n",
    "    ax = plt.axes(projection=ccrs.PlateCarree())\n",
    "\n",
    "    esri_imagery = cimgt.QuadtreeTiles()\n",
    "    ax.add_image(esri_imagery, 8)\n",
    "    ax.coastlines()\n",
    "    ax.add_feature(cfeature.LAND, facecolor='lightgray')\n",
    "    ax.add_feature(cfeature.OCEAN, facecolor='lightblue')\n",
    "\n",
    "    gl = ax.gridlines(draw_labels=True, crs=ccrs.PlateCarree(), linestyle='--', linewidth=0.5)\n",
    "    gl.top_labels = False\n",
    "    gl.right_labels = False\n",
    "    gl.xformatter = cticker.LongitudeFormatter()\n",
    "    gl.yformatter = cticker.LatitudeFormatter()\n",
    "    gl.xlabel_style = {'rotation': 30, 'ha': 'right'}\n",
    "    ax.set_xlabel('Longitude (°)', fontsize=12)\n",
    "    ax.set_ylabel('Latitude (°)', fontsize=12)\n",
    "\n",
    "    sst_data = sst.isel(time=0).values.flatten()\n",
    "    sst_plt = ax.scatter(lon_data, lat_data, c=sst_data, cmap='coolwarm', s=20,\n",
    "                         transform=ccrs.PlateCarree(), vmin=min_sst_c, vmax=max_sst_c)\n",
    "\n",
    "    center_lon, center_lat = -175.4, -20.5\n",
    "    feature_plt = plt.scatter(center_lon, center_lat, color='yellow', marker='*', s=100, label='Tonga Hunga Haapai')\n",
    "\n",
    "    cbar = plt.colorbar(sst_plt, orientation='vertical', pad=0.05)\n",
    "    cbar.set_label('Sea Surface Temperature (°C)')\n",
    "\n",
    "    def update(frame):\n",
    "        sst_data = sst.isel(time=frame).values.flatten()\n",
    "        sst_plt.set_array(sst_data)\n",
    "        date_str = str(ds['time'].values[frame])[:10]\n",
    "        ax.set_title(f\"Sea Surface Temperature (SST), {date_str}\\n{params['short_name']}\", fontsize=14)\n",
    "        return sst_plt,\n",
    "\n",
    "    ani = FuncAnimation(fig, update, frames=len(sst.time), interval=interval, blit=False)\n",
    "\n",
    "    plt.tight_layout()\n",
    "    plt.show()\n",
    "\n",
    "    return ani\n"
   ]
  },
  {
   "cell_type": "markdown",
   "metadata": {},
   "source": [
    "---\n",
    "## Create the SST time series animation"
   ]
  },
  {
   "cell_type": "code",
   "execution_count": null,
   "metadata": {},
   "outputs": [],
   "source": [
    "from IPython.display import display, HTML\n",
    "\n",
    "anim = animate_sst(combined_ds, min_sst, max_sst, interval=400)\n",
    "display(HTML(anim.to_jshtml()))"
   ]
  },
  {
   "cell_type": "markdown",
   "metadata": {},
   "source": [
    "---\n",
    "## Save the animation as a gif"
   ]
  },
  {
   "cell_type": "code",
   "execution_count": null,
   "metadata": {},
   "outputs": [],
   "source": [
    "from pathlib import Path\n",
    "\n",
    "animation_dir = data_path.parent / \"time_series_animations\"\n",
    "animation_dir.mkdir(parents=True, exist_ok=True)\n",
    "\n",
    "anim.save(animation_dir/f\"{params['short_name']}.gif\", writer='pillow', dpi=300)"
   ]
  },
  {
   "cell_type": "code",
   "execution_count": null,
   "metadata": {},
   "outputs": [],
   "source": []
  }
 ],
 "metadata": {
  "colab": {
   "provenance": []
  },
  "kernelspec": {
   "display_name": "opensarlab_mintpy_recipe_book [conda env:.local-opensarlab_mintpy_recipe_book]",
   "language": "python",
   "name": "conda-env-.local-opensarlab_mintpy_recipe_book-opensarlab_mintpy_recipe_book"
  },
  "language_info": {
   "codemirror_mode": {
    "name": "ipython",
    "version": 3
   },
   "file_extension": ".py",
   "mimetype": "text/x-python",
   "name": "python",
   "nbconvert_exporter": "python",
   "pygments_lexer": "ipython3",
   "version": "3.9.18"
  },
  "widgets": {
   "application/vnd.jupyter.widget-state+json": {
    "053d646d155c486f9232dfa0ca2b2726": {
     "model_module": "@jupyter-widgets/controls",
     "model_module_version": "1.5.0",
     "model_name": "ProgressStyleModel",
     "state": {
      "_model_module": "@jupyter-widgets/controls",
      "_model_module_version": "1.5.0",
      "_model_name": "ProgressStyleModel",
      "_view_count": null,
      "_view_module": "@jupyter-widgets/base",
      "_view_module_version": "1.2.0",
      "_view_name": "StyleView",
      "bar_color": null,
      "description_width": ""
     }
    },
    "0c85567502904068bff044671a7d1087": {
     "model_module": "@jupyter-widgets/controls",
     "model_module_version": "1.5.0",
     "model_name": "DescriptionStyleModel",
     "state": {
      "_model_module": "@jupyter-widgets/controls",
      "_model_module_version": "1.5.0",
      "_model_name": "DescriptionStyleModel",
      "_view_count": null,
      "_view_module": "@jupyter-widgets/base",
      "_view_module_version": "1.2.0",
      "_view_name": "StyleView",
      "description_width": ""
     }
    },
    "1079b5f595a646a78a83b0dd4b14b062": {
     "model_module": "@jupyter-widgets/base",
     "model_module_version": "1.2.0",
     "model_name": "LayoutModel",
     "state": {
      "_model_module": "@jupyter-widgets/base",
      "_model_module_version": "1.2.0",
      "_model_name": "LayoutModel",
      "_view_count": null,
      "_view_module": "@jupyter-widgets/base",
      "_view_module_version": "1.2.0",
      "_view_name": "LayoutView",
      "align_content": null,
      "align_items": null,
      "align_self": null,
      "border": null,
      "bottom": null,
      "display": null,
      "flex": null,
      "flex_flow": null,
      "grid_area": null,
      "grid_auto_columns": null,
      "grid_auto_flow": null,
      "grid_auto_rows": null,
      "grid_column": null,
      "grid_gap": null,
      "grid_row": null,
      "grid_template_areas": null,
      "grid_template_columns": null,
      "grid_template_rows": null,
      "height": null,
      "justify_content": null,
      "justify_items": null,
      "left": null,
      "margin": null,
      "max_height": null,
      "max_width": null,
      "min_height": null,
      "min_width": null,
      "object_fit": null,
      "object_position": null,
      "order": null,
      "overflow": null,
      "overflow_x": null,
      "overflow_y": null,
      "padding": null,
      "right": null,
      "top": null,
      "visibility": null,
      "width": null
     }
    },
    "154732ef175c42388a7733341c703985": {
     "model_module": "@jupyter-widgets/controls",
     "model_module_version": "1.5.0",
     "model_name": "DescriptionStyleModel",
     "state": {
      "_model_module": "@jupyter-widgets/controls",
      "_model_module_version": "1.5.0",
      "_model_name": "DescriptionStyleModel",
      "_view_count": null,
      "_view_module": "@jupyter-widgets/base",
      "_view_module_version": "1.2.0",
      "_view_name": "StyleView",
      "description_width": ""
     }
    },
    "1f8be24d691e4dddb0095b6a401b43a1": {
     "model_module": "@jupyter-widgets/controls",
     "model_module_version": "1.5.0",
     "model_name": "HTMLModel",
     "state": {
      "_dom_classes": [],
      "_model_module": "@jupyter-widgets/controls",
      "_model_module_version": "1.5.0",
      "_model_name": "HTMLModel",
      "_view_count": null,
      "_view_module": "@jupyter-widgets/controls",
      "_view_module_version": "1.5.0",
      "_view_name": "HTMLView",
      "description": "",
      "description_tooltip": null,
      "layout": "IPY_MODEL_8fbbcfb773124c7094ee4fb3910e8158",
      "placeholder": "​",
      "style": "IPY_MODEL_0c85567502904068bff044671a7d1087",
      "value": " 34/34 [00:47&lt;00:00,  1.42s/it]"
     }
    },
    "294456a3c4264fa9bae7c208b35a5d2d": {
     "model_module": "@jupyter-widgets/controls",
     "model_module_version": "1.5.0",
     "model_name": "HTMLModel",
     "state": {
      "_dom_classes": [],
      "_model_module": "@jupyter-widgets/controls",
      "_model_module_version": "1.5.0",
      "_model_name": "HTMLModel",
      "_view_count": null,
      "_view_module": "@jupyter-widgets/controls",
      "_view_module_version": "1.5.0",
      "_view_name": "HTMLView",
      "description": "",
      "description_tooltip": null,
      "layout": "IPY_MODEL_1079b5f595a646a78a83b0dd4b14b062",
      "placeholder": "​",
      "style": "IPY_MODEL_154732ef175c42388a7733341c703985",
      "value": " 17/17 [00:05&lt;00:00,  6.30it/s]"
     }
    },
    "41242941f9844b6aa77b93a6383f7dc3": {
     "model_module": "@jupyter-widgets/controls",
     "model_module_version": "1.5.0",
     "model_name": "HBoxModel",
     "state": {
      "_dom_classes": [],
      "_model_module": "@jupyter-widgets/controls",
      "_model_module_version": "1.5.0",
      "_model_name": "HBoxModel",
      "_view_count": null,
      "_view_module": "@jupyter-widgets/controls",
      "_view_module_version": "1.5.0",
      "_view_name": "HBoxView",
      "box_style": "",
      "children": [
       "IPY_MODEL_d2c06bcc1ba7426da5efa828ea7bbe85",
       "IPY_MODEL_f37f3949ad3947049dc6cd7e170b4a95",
       "IPY_MODEL_1f8be24d691e4dddb0095b6a401b43a1"
      ],
      "layout": "IPY_MODEL_d9221e6a16644ebc8ac3fcab42f782aa"
     }
    },
    "5d251e84d8a9405c8ca12a54c51b7d8e": {
     "model_module": "@jupyter-widgets/base",
     "model_module_version": "1.2.0",
     "model_name": "LayoutModel",
     "state": {
      "_model_module": "@jupyter-widgets/base",
      "_model_module_version": "1.2.0",
      "_model_name": "LayoutModel",
      "_view_count": null,
      "_view_module": "@jupyter-widgets/base",
      "_view_module_version": "1.2.0",
      "_view_name": "LayoutView",
      "align_content": null,
      "align_items": null,
      "align_self": null,
      "border": null,
      "bottom": null,
      "display": null,
      "flex": null,
      "flex_flow": null,
      "grid_area": null,
      "grid_auto_columns": null,
      "grid_auto_flow": null,
      "grid_auto_rows": null,
      "grid_column": null,
      "grid_gap": null,
      "grid_row": null,
      "grid_template_areas": null,
      "grid_template_columns": null,
      "grid_template_rows": null,
      "height": null,
      "justify_content": null,
      "justify_items": null,
      "left": null,
      "margin": null,
      "max_height": null,
      "max_width": null,
      "min_height": null,
      "min_width": null,
      "object_fit": null,
      "object_position": null,
      "order": null,
      "overflow": null,
      "overflow_x": null,
      "overflow_y": null,
      "padding": null,
      "right": null,
      "top": null,
      "visibility": null,
      "width": null
     }
    },
    "62be9f650dab47ecb68ed04832e50360": {
     "model_module": "@jupyter-widgets/base",
     "model_module_version": "1.2.0",
     "model_name": "LayoutModel",
     "state": {
      "_model_module": "@jupyter-widgets/base",
      "_model_module_version": "1.2.0",
      "_model_name": "LayoutModel",
      "_view_count": null,
      "_view_module": "@jupyter-widgets/base",
      "_view_module_version": "1.2.0",
      "_view_name": "LayoutView",
      "align_content": null,
      "align_items": null,
      "align_self": null,
      "border": null,
      "bottom": null,
      "display": null,
      "flex": null,
      "flex_flow": null,
      "grid_area": null,
      "grid_auto_columns": null,
      "grid_auto_flow": null,
      "grid_auto_rows": null,
      "grid_column": null,
      "grid_gap": null,
      "grid_row": null,
      "grid_template_areas": null,
      "grid_template_columns": null,
      "grid_template_rows": null,
      "height": null,
      "justify_content": null,
      "justify_items": null,
      "left": null,
      "margin": null,
      "max_height": null,
      "max_width": null,
      "min_height": null,
      "min_width": null,
      "object_fit": null,
      "object_position": null,
      "order": null,
      "overflow": null,
      "overflow_x": null,
      "overflow_y": null,
      "padding": null,
      "right": null,
      "top": null,
      "visibility": null,
      "width": null
     }
    },
    "630978c02cde4d84baedb7bccd864f47": {
     "model_module": "@jupyter-widgets/controls",
     "model_module_version": "1.5.0",
     "model_name": "HTMLModel",
     "state": {
      "_dom_classes": [],
      "_model_module": "@jupyter-widgets/controls",
      "_model_module_version": "1.5.0",
      "_model_name": "HTMLModel",
      "_view_count": null,
      "_view_module": "@jupyter-widgets/controls",
      "_view_module_version": "1.5.0",
      "_view_name": "HTMLView",
      "description": "",
      "description_tooltip": null,
      "layout": "IPY_MODEL_5d251e84d8a9405c8ca12a54c51b7d8e",
      "placeholder": "​",
      "style": "IPY_MODEL_8cec1a5f2fb34a4db3f2518ae874ba78",
      "value": "100%"
     }
    },
    "69a5e7dc18b84e928eef05a674bfc8da": {
     "model_module": "@jupyter-widgets/controls",
     "model_module_version": "1.5.0",
     "model_name": "ProgressStyleModel",
     "state": {
      "_model_module": "@jupyter-widgets/controls",
      "_model_module_version": "1.5.0",
      "_model_name": "ProgressStyleModel",
      "_view_count": null,
      "_view_module": "@jupyter-widgets/base",
      "_view_module_version": "1.2.0",
      "_view_name": "StyleView",
      "bar_color": null,
      "description_width": ""
     }
    },
    "70fe3385a1a040119fc38647cfffed1c": {
     "model_module": "@jupyter-widgets/controls",
     "model_module_version": "1.5.0",
     "model_name": "FloatProgressModel",
     "state": {
      "_dom_classes": [],
      "_model_module": "@jupyter-widgets/controls",
      "_model_module_version": "1.5.0",
      "_model_name": "FloatProgressModel",
      "_view_count": null,
      "_view_module": "@jupyter-widgets/controls",
      "_view_module_version": "1.5.0",
      "_view_name": "ProgressView",
      "bar_style": "success",
      "description": "",
      "description_tooltip": null,
      "layout": "IPY_MODEL_b0d2794ea0504c35888766b00d5bfde5",
      "max": 17,
      "min": 0,
      "orientation": "horizontal",
      "style": "IPY_MODEL_69a5e7dc18b84e928eef05a674bfc8da",
      "value": 17
     }
    },
    "8cec1a5f2fb34a4db3f2518ae874ba78": {
     "model_module": "@jupyter-widgets/controls",
     "model_module_version": "1.5.0",
     "model_name": "DescriptionStyleModel",
     "state": {
      "_model_module": "@jupyter-widgets/controls",
      "_model_module_version": "1.5.0",
      "_model_name": "DescriptionStyleModel",
      "_view_count": null,
      "_view_module": "@jupyter-widgets/base",
      "_view_module_version": "1.2.0",
      "_view_name": "StyleView",
      "description_width": ""
     }
    },
    "8fbbcfb773124c7094ee4fb3910e8158": {
     "model_module": "@jupyter-widgets/base",
     "model_module_version": "1.2.0",
     "model_name": "LayoutModel",
     "state": {
      "_model_module": "@jupyter-widgets/base",
      "_model_module_version": "1.2.0",
      "_model_name": "LayoutModel",
      "_view_count": null,
      "_view_module": "@jupyter-widgets/base",
      "_view_module_version": "1.2.0",
      "_view_name": "LayoutView",
      "align_content": null,
      "align_items": null,
      "align_self": null,
      "border": null,
      "bottom": null,
      "display": null,
      "flex": null,
      "flex_flow": null,
      "grid_area": null,
      "grid_auto_columns": null,
      "grid_auto_flow": null,
      "grid_auto_rows": null,
      "grid_column": null,
      "grid_gap": null,
      "grid_row": null,
      "grid_template_areas": null,
      "grid_template_columns": null,
      "grid_template_rows": null,
      "height": null,
      "justify_content": null,
      "justify_items": null,
      "left": null,
      "margin": null,
      "max_height": null,
      "max_width": null,
      "min_height": null,
      "min_width": null,
      "object_fit": null,
      "object_position": null,
      "order": null,
      "overflow": null,
      "overflow_x": null,
      "overflow_y": null,
      "padding": null,
      "right": null,
      "top": null,
      "visibility": null,
      "width": null
     }
    },
    "a82f8150a299483a9407b7b17a762f72": {
     "model_module": "@jupyter-widgets/controls",
     "model_module_version": "1.5.0",
     "model_name": "DescriptionStyleModel",
     "state": {
      "_model_module": "@jupyter-widgets/controls",
      "_model_module_version": "1.5.0",
      "_model_name": "DescriptionStyleModel",
      "_view_count": null,
      "_view_module": "@jupyter-widgets/base",
      "_view_module_version": "1.2.0",
      "_view_name": "StyleView",
      "description_width": ""
     }
    },
    "b0d2794ea0504c35888766b00d5bfde5": {
     "model_module": "@jupyter-widgets/base",
     "model_module_version": "1.2.0",
     "model_name": "LayoutModel",
     "state": {
      "_model_module": "@jupyter-widgets/base",
      "_model_module_version": "1.2.0",
      "_model_name": "LayoutModel",
      "_view_count": null,
      "_view_module": "@jupyter-widgets/base",
      "_view_module_version": "1.2.0",
      "_view_name": "LayoutView",
      "align_content": null,
      "align_items": null,
      "align_self": null,
      "border": null,
      "bottom": null,
      "display": null,
      "flex": null,
      "flex_flow": null,
      "grid_area": null,
      "grid_auto_columns": null,
      "grid_auto_flow": null,
      "grid_auto_rows": null,
      "grid_column": null,
      "grid_gap": null,
      "grid_row": null,
      "grid_template_areas": null,
      "grid_template_columns": null,
      "grid_template_rows": null,
      "height": null,
      "justify_content": null,
      "justify_items": null,
      "left": null,
      "margin": null,
      "max_height": null,
      "max_width": null,
      "min_height": null,
      "min_width": null,
      "object_fit": null,
      "object_position": null,
      "order": null,
      "overflow": null,
      "overflow_x": null,
      "overflow_y": null,
      "padding": null,
      "right": null,
      "top": null,
      "visibility": null,
      "width": null
     }
    },
    "b281fd76f777488087fddd83b6b7feed": {
     "model_module": "@jupyter-widgets/controls",
     "model_module_version": "1.5.0",
     "model_name": "HBoxModel",
     "state": {
      "_dom_classes": [],
      "_model_module": "@jupyter-widgets/controls",
      "_model_module_version": "1.5.0",
      "_model_name": "HBoxModel",
      "_view_count": null,
      "_view_module": "@jupyter-widgets/controls",
      "_view_module_version": "1.5.0",
      "_view_name": "HBoxView",
      "box_style": "",
      "children": [
       "IPY_MODEL_630978c02cde4d84baedb7bccd864f47",
       "IPY_MODEL_70fe3385a1a040119fc38647cfffed1c",
       "IPY_MODEL_294456a3c4264fa9bae7c208b35a5d2d"
      ],
      "layout": "IPY_MODEL_d979f022478c423483e71b358440391e"
     }
    },
    "d2c06bcc1ba7426da5efa828ea7bbe85": {
     "model_module": "@jupyter-widgets/controls",
     "model_module_version": "1.5.0",
     "model_name": "HTMLModel",
     "state": {
      "_dom_classes": [],
      "_model_module": "@jupyter-widgets/controls",
      "_model_module_version": "1.5.0",
      "_model_name": "HTMLModel",
      "_view_count": null,
      "_view_module": "@jupyter-widgets/controls",
      "_view_module_version": "1.5.0",
      "_view_name": "HTMLView",
      "description": "",
      "description_tooltip": null,
      "layout": "IPY_MODEL_f340e2043dd44d7096311ced8d38366c",
      "placeholder": "​",
      "style": "IPY_MODEL_a82f8150a299483a9407b7b17a762f72",
      "value": "100%"
     }
    },
    "d9221e6a16644ebc8ac3fcab42f782aa": {
     "model_module": "@jupyter-widgets/base",
     "model_module_version": "1.2.0",
     "model_name": "LayoutModel",
     "state": {
      "_model_module": "@jupyter-widgets/base",
      "_model_module_version": "1.2.0",
      "_model_name": "LayoutModel",
      "_view_count": null,
      "_view_module": "@jupyter-widgets/base",
      "_view_module_version": "1.2.0",
      "_view_name": "LayoutView",
      "align_content": null,
      "align_items": null,
      "align_self": null,
      "border": null,
      "bottom": null,
      "display": null,
      "flex": null,
      "flex_flow": null,
      "grid_area": null,
      "grid_auto_columns": null,
      "grid_auto_flow": null,
      "grid_auto_rows": null,
      "grid_column": null,
      "grid_gap": null,
      "grid_row": null,
      "grid_template_areas": null,
      "grid_template_columns": null,
      "grid_template_rows": null,
      "height": null,
      "justify_content": null,
      "justify_items": null,
      "left": null,
      "margin": null,
      "max_height": null,
      "max_width": null,
      "min_height": null,
      "min_width": null,
      "object_fit": null,
      "object_position": null,
      "order": null,
      "overflow": null,
      "overflow_x": null,
      "overflow_y": null,
      "padding": null,
      "right": null,
      "top": null,
      "visibility": null,
      "width": null
     }
    },
    "d979f022478c423483e71b358440391e": {
     "model_module": "@jupyter-widgets/base",
     "model_module_version": "1.2.0",
     "model_name": "LayoutModel",
     "state": {
      "_model_module": "@jupyter-widgets/base",
      "_model_module_version": "1.2.0",
      "_model_name": "LayoutModel",
      "_view_count": null,
      "_view_module": "@jupyter-widgets/base",
      "_view_module_version": "1.2.0",
      "_view_name": "LayoutView",
      "align_content": null,
      "align_items": null,
      "align_self": null,
      "border": null,
      "bottom": null,
      "display": null,
      "flex": null,
      "flex_flow": null,
      "grid_area": null,
      "grid_auto_columns": null,
      "grid_auto_flow": null,
      "grid_auto_rows": null,
      "grid_column": null,
      "grid_gap": null,
      "grid_row": null,
      "grid_template_areas": null,
      "grid_template_columns": null,
      "grid_template_rows": null,
      "height": null,
      "justify_content": null,
      "justify_items": null,
      "left": null,
      "margin": null,
      "max_height": null,
      "max_width": null,
      "min_height": null,
      "min_width": null,
      "object_fit": null,
      "object_position": null,
      "order": null,
      "overflow": null,
      "overflow_x": null,
      "overflow_y": null,
      "padding": null,
      "right": null,
      "top": null,
      "visibility": null,
      "width": null
     }
    },
    "f340e2043dd44d7096311ced8d38366c": {
     "model_module": "@jupyter-widgets/base",
     "model_module_version": "1.2.0",
     "model_name": "LayoutModel",
     "state": {
      "_model_module": "@jupyter-widgets/base",
      "_model_module_version": "1.2.0",
      "_model_name": "LayoutModel",
      "_view_count": null,
      "_view_module": "@jupyter-widgets/base",
      "_view_module_version": "1.2.0",
      "_view_name": "LayoutView",
      "align_content": null,
      "align_items": null,
      "align_self": null,
      "border": null,
      "bottom": null,
      "display": null,
      "flex": null,
      "flex_flow": null,
      "grid_area": null,
      "grid_auto_columns": null,
      "grid_auto_flow": null,
      "grid_auto_rows": null,
      "grid_column": null,
      "grid_gap": null,
      "grid_row": null,
      "grid_template_areas": null,
      "grid_template_columns": null,
      "grid_template_rows": null,
      "height": null,
      "justify_content": null,
      "justify_items": null,
      "left": null,
      "margin": null,
      "max_height": null,
      "max_width": null,
      "min_height": null,
      "min_width": null,
      "object_fit": null,
      "object_position": null,
      "order": null,
      "overflow": null,
      "overflow_x": null,
      "overflow_y": null,
      "padding": null,
      "right": null,
      "top": null,
      "visibility": null,
      "width": null
     }
    },
    "f37f3949ad3947049dc6cd7e170b4a95": {
     "model_module": "@jupyter-widgets/controls",
     "model_module_version": "1.5.0",
     "model_name": "FloatProgressModel",
     "state": {
      "_dom_classes": [],
      "_model_module": "@jupyter-widgets/controls",
      "_model_module_version": "1.5.0",
      "_model_name": "FloatProgressModel",
      "_view_count": null,
      "_view_module": "@jupyter-widgets/controls",
      "_view_module_version": "1.5.0",
      "_view_name": "ProgressView",
      "bar_style": "success",
      "description": "",
      "description_tooltip": null,
      "layout": "IPY_MODEL_62be9f650dab47ecb68ed04832e50360",
      "max": 34,
      "min": 0,
      "orientation": "horizontal",
      "style": "IPY_MODEL_053d646d155c486f9232dfa0ca2b2726",
      "value": 34
     }
    }
   }
  }
 },
 "nbformat": 4,
 "nbformat_minor": 4
}
